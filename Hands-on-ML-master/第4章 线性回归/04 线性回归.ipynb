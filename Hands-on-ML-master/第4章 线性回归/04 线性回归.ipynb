{
 "cells": [
  {
   "cell_type": "code",
   "execution_count": 1,
   "metadata": {
    "cell_id": "e00d31f2766d45be9c6d9fe9c4405f43",
    "deepnote_app_coordinates": {
     "h": 5,
     "w": 12,
     "x": 0,
     "y": 12
    },
    "deepnote_cell_type": "code",
    "deepnote_to_be_reexecuted": false,
    "execution_millis": 3632,
    "execution_start": 1670940580644,
    "id": "7C1D282356B24CDB8C600C9CEA1265C8",
    "jupyter": {},
    "scrolled": false,
    "slideshow": {
     "slide_type": "slide"
    },
    "source_hash": "459e9ef",
    "tags": []
   },
   "outputs": [
    {
     "name": "stdout",
     "output_type": "stream",
     "text": [
      "数据特征： Avg. Area Income, Avg. Area House Age, Avg. Area Number of Rooms, Avg. Area Number of Bedrooms, Area Population\n",
      "数据标签： Price\n",
      "数据总条数： 5000\n"
     ]
    }
   ],
   "source": [
    "import numpy as np\n",
    "import matplotlib.pyplot as plt\n",
    "from matplotlib.ticker import MaxNLocator\n",
    "from sklearn.preprocessing import StandardScaler\n",
    "\n",
    "# 从源文件加载数据，并输出查看数据的各项特征\n",
    "lines = np.loadtxt('USA_Housing.csv', delimiter=',', dtype='str')\n",
    "header = lines[0]\n",
    "lines = lines[1:].astype(float)\n",
    "print('数据特征：', ', '.join(header[:-1]))\n",
    "print('数据标签：', header[-1])\n",
    "print('数据总条数：', len(lines))\n",
    "\n",
    "# 划分训练集与测试集\n",
    "ratio = 0.8\n",
    "split = int(len(lines) * ratio)\n",
    "np.random.seed(0)\n",
    "lines = np.random.permutation(lines)\n",
    "train, test = lines[:split], lines[split:]\n",
    "\n",
    "# 数据归一化 (标准化公式: z = (x - u) / s )\n",
    "scaler = StandardScaler() # 创建一个标准化器对象\n",
    "scaler.fit(train) # 使用训练集的均值 u 和 方差 s^2, 初始化标准化器\n",
    "train = scaler.transform(train)\n",
    "test = scaler.transform(test)\n",
    "\n",
    "# 划分输入和标签\n",
    "x_train, y_train = train[:, :-1], train[:, -1].flatten()\n",
    "x_test, y_test = test[:, :-1], test[:, -1].flatten()"
   ]
  },
  {
   "cell_type": "code",
   "execution_count": 2,
   "metadata": {
    "cell_id": "631dd97e9da843529d3b5cc29f08380c",
    "deepnote_app_coordinates": {
     "h": 5,
     "w": 12,
     "x": 0,
     "y": 24
    },
    "deepnote_cell_type": "code",
    "deepnote_to_be_reexecuted": false,
    "execution_millis": 25,
    "execution_start": 1670940584324,
    "id": "8EE5DC43F8734EF0A41032B8E4A94857",
    "jupyter": {},
    "scrolled": false,
    "slideshow": {
     "slide_type": "slide"
    },
    "source_hash": "74324f1b",
    "tags": []
   },
   "outputs": [
    {
     "name": "stdout",
     "output_type": "stream",
     "text": [
      "回归系数： [ 6.50881254e-01  4.67222833e-01  3.38466198e-01  6.17275856e-03\n",
      "  4.26857089e-01 -1.46445356e-14]\n",
      "RMSE： 0.28791834247503534\n"
     ]
    }
   ],
   "source": [
    "# 在X矩阵最后添加一列1，代表常数项\n",
    "X = np.concatenate([x_train, np.ones((len(x_train), 1))], axis=-1)\n",
    "# @ 表示矩阵相乘，X.T表示矩阵X的转置，np.linalg.inv函数可以计算矩阵的逆\n",
    "theta = np.linalg.inv(X.T @ X) @ X.T @ y_train  # ɵ = (w,b) 解析解: ɵ = (X^T * X)^(-1) * X^T * y\n",
    "print('回归系数：', theta)\n",
    "\n",
    "# 在测试集上使用回归系数进行预测\n",
    "X_test = np.concatenate([x_test, np.ones((len(x_test), 1))], axis=-1)\n",
    "y_pred = X_test @ theta\n",
    "\n",
    "# 计算预测值和真实值之间的RMSE\n",
    "rmse_loss = np.sqrt(np.square(y_test - y_pred).mean())\n",
    "print('RMSE：', rmse_loss)"
   ]
  },
  {
   "cell_type": "code",
   "execution_count": 3,
   "metadata": {
    "cell_id": "24bf3567aade4e37bb37b9ce1aa012ee",
    "deepnote_app_coordinates": {
     "h": 5,
     "w": 12,
     "x": 0,
     "y": 36
    },
    "deepnote_cell_type": "code",
    "deepnote_to_be_reexecuted": false,
    "execution_millis": 285,
    "execution_start": 1670940584358,
    "id": "76377D8991204084A0861ED8AC2C9A8E",
    "jupyter": {},
    "notebookId": "60364796c614ab001504cecf",
    "scrolled": false,
    "slideshow": {
     "slide_type": "slide"
    },
    "source_hash": "660b9b9c",
    "tags": []
   },
   "outputs": [
    {
     "name": "stdout",
     "output_type": "stream",
     "text": [
      "回归系数： [0.65088125 0.46722283 0.3384662  0.00617276 0.42685709] -1.4635041882766186e-14\n",
      "RMSE： 0.28791834247503534\n"
     ]
    }
   ],
   "source": [
    "from sklearn.linear_model import LinearRegression\n",
    "\n",
    "# 初始化线性模型\n",
    "linreg = LinearRegression()\n",
    "# LinearRegression的方法中已经考虑了线性回归的常数项，所以无须再拼接1\n",
    "linreg.fit(x_train, y_train)\n",
    "\n",
    "# coef_是训练得到的回归系数，intercept_是常数项\n",
    "print('回归系数：', linreg.coef_, linreg.intercept_)\n",
    "y_pred = linreg.predict(x_test)\n",
    "\n",
    "# 计算预测值和真实值之间的RMSE\n",
    "rmse_loss = np.sqrt(np.square(y_test - y_pred).mean())\n",
    "print('RMSE：', rmse_loss)"
   ]
  },
  {
   "cell_type": "code",
   "execution_count": 4,
   "metadata": {
    "cell_id": "183cc001f0f346388b5b989a5a2f6e8a",
    "deepnote_app_coordinates": {
     "h": 5,
     "w": 12,
     "x": 0,
     "y": 48
    },
    "deepnote_cell_type": "code",
    "deepnote_to_be_reexecuted": false,
    "execution_millis": 7,
    "execution_start": 1670940584648,
    "id": "6A170DBCED294C5D974A0AA09ABCED68",
    "jupyter": {},
    "notebookId": "60364796c614ab001504cecf",
    "scrolled": false,
    "slideshow": {
     "slide_type": "slide"
    },
    "source_hash": "d9c08b45",
    "tags": []
   },
   "outputs": [],
   "source": [
    "# 该函数每次返回大小为batch_size的批量\n",
    "# x和y分别为输入和标签\n",
    "# 若shuffle = True，则每次遍历时会将数据重新随机划分\n",
    "def batch_generator(x, y, batch_size, shuffle=True):\n",
    "    # 批量计数器\n",
    "    batch_count = 0\n",
    "    if shuffle:\n",
    "        # 随机生成0到len(x)-1的下标\n",
    "        idx = np.random.permutation(len(x))\n",
    "        x = x[idx]\n",
    "        y = y[idx]\n",
    "    while True:\n",
    "        start = batch_count * batch_size\n",
    "        end = min(start + batch_size, len(x))\n",
    "        if start >= end:\n",
    "            # 已经遍历一遍，结束生成\n",
    "            break\n",
    "        batch_count += 1\n",
    "        yield x[start: end], y[start: end]"
   ]
  },
  {
   "cell_type": "code",
   "execution_count": 5,
   "metadata": {
    "cell_id": "cd1a09135411483ca7eea45cae5587cb",
    "deepnote_app_coordinates": {
     "h": 5,
     "w": 12,
     "x": 0,
     "y": 54
    },
    "deepnote_cell_type": "code",
    "deepnote_to_be_reexecuted": false,
    "execution_millis": 405,
    "execution_start": 1670941330071,
    "id": "69246F1036B24E3B84F7F2954B383DDD",
    "jupyter": {},
    "notebookId": "60364796c614ab001504cecf",
    "scrolled": false,
    "slideshow": {
     "slide_type": "slide"
    },
    "source_hash": "e4f2f06c",
    "tags": []
   },
   "outputs": [
    {
     "name": "stdout",
     "output_type": "stream",
     "text": [
      "回归系数： [ 0.65357756  0.46682964  0.33885411  0.00720843  0.42751035 -0.00273407]\n"
     ]
    },
    {
     "data": {
      "image/png": "[encoded data removed]",
      "text/plain": [
       "<Figure size 640x480 with 1 Axes>"
      ]
     },
     "metadata": {},
     "output_type": "display_data"
    }
   ],
   "source": [
    "def SGD(num_epoch, learning_rate, batch_size):\n",
    "    # 拼接原始矩阵\n",
    "    X = np.concatenate([x_train, np.ones((len(x_train), 1))], axis=-1)\n",
    "    X_test = np.concatenate([x_test, np.ones((len(x_test), 1))], axis=-1)\n",
    "    # 随机初始化参数\n",
    "    theta = np.random.normal(size=X.shape[1])   # 第二个维度是特征数量\n",
    "\n",
    "    # 随机梯度下降\n",
    "    # 为了观察迭代过程，我们记录每一次迭代后在训练集和测试集上的均方根误差\n",
    "    train_losses = []\n",
    "    test_losses = []\n",
    "    for i in range(num_epoch):\n",
    "        # 初始化批量生成器\n",
    "        batch_g = batch_generator(X, y_train, batch_size, shuffle=True)\n",
    "        train_loss = 0\n",
    "        for x_batch, y_batch in batch_g:\n",
    "            # 计算梯度\n",
    "            grad = x_batch.T @ (x_batch @ theta - y_batch)\n",
    "            # 更新参数\n",
    "            theta = theta - learning_rate * grad / len(x_batch)\n",
    "            # 累加平方误差\n",
    "            train_loss += np.square(x_batch @ theta - y_batch).sum()\n",
    "        # 计算训练和测试误差\n",
    "        train_loss = np.sqrt(train_loss / len(X))\n",
    "        train_losses.append(train_loss)\n",
    "        test_loss = np.sqrt(np.square(X_test @ theta - y_test).mean())\n",
    "        test_losses.append(test_loss)\n",
    "\n",
    "    # 输出结果，绘制训练曲线\n",
    "    print('回归系数：', theta)\n",
    "    return theta, train_losses, test_losses\n",
    "\n",
    "# 设置迭代次数，学习率与批量大小\n",
    "num_epoch = 20\n",
    "learning_rate = 0.01\n",
    "batch_size = 32\n",
    "# 设置随机种子\n",
    "np.random.seed(0)\n",
    "\n",
    "_, train_losses, test_losses = SGD(num_epoch, learning_rate, batch_size)\n",
    "    \n",
    "# 将损失函数关于运行次数的关系制图，可以看到损失函数先一直保持下降，之后趋于平稳\n",
    "plt.plot(np.arange(num_epoch), train_losses, color='blue', \n",
    "    label='train loss')\n",
    "plt.plot(np.arange(num_epoch), test_losses, color='red', \n",
    "    ls='--', label='test loss')\n",
    "# 由于epoch是整数，这里把图中的横坐标也设置为整数\n",
    "# 该步骤也可以省略\n",
    "plt.gca().xaxis.set_major_locator(MaxNLocator(integer=True))\n",
    "plt.xlabel('Epoch')\n",
    "plt.ylabel('RMSE')\n",
    "plt.legend()\n",
    "plt.show()"
   ]
  },
  {
   "cell_type": "code",
   "execution_count": 6,
   "metadata": {
    "cell_id": "3a4a37ec15aa42f9bfd69128c327fce9",
    "deepnote_app_coordinates": {
     "h": 5,
     "w": 12,
     "x": 0,
     "y": 0
    },
    "deepnote_cell_type": "code",
    "deepnote_to_be_reexecuted": false,
    "execution_millis": 439,
    "execution_start": 1670941372322,
    "source_hash": "682d3cef",
    "tags": []
   },
   "outputs": [
    {
     "name": "stdout",
     "output_type": "stream",
     "text": [
      "回归系数： [0.64542258 0.47047873 0.33188398 0.00325404 0.42479699 0.00237965]\n",
      "回归系数： [0.59247915 0.58561574 0.26554358 0.10173112 0.49435997 0.13108641]\n"
     ]
    },
    {
     "data": {
      "image/png": "[encoded data removed]",
      "text/plain": [
       "<Figure size 640x480 with 1 Axes>"
      ]
     },
     "metadata": {},
     "output_type": "display_data"
    }
   ],
   "source": [
    "_, loss1, _ = SGD(num_epoch=num_epoch, learning_rate=0.1, \n",
    "    batch_size=batch_size)\n",
    "_, loss2, _ = SGD(num_epoch=num_epoch, learning_rate=0.001, \n",
    "    batch_size=batch_size)\n",
    "plt.plot(np.arange(num_epoch), loss1, color='blue', \n",
    "    label='lr=0.1')\n",
    "plt.plot(np.arange(num_epoch), train_losses, color='red', \n",
    "    ls='--', label='lr=0.01')\n",
    "plt.plot(np.arange(num_epoch), loss2, color='green',\n",
    "    ls='-.', label='lr=0.001')\n",
    "plt.xlabel('Epoch')\n",
    "plt.ylabel('RMSE')\n",
    "plt.gca().xaxis.set_major_locator(MaxNLocator(integer=True))\n",
    "plt.legend()\n",
    "plt.show()"
   ]
  },
  {
   "cell_type": "code",
   "execution_count": 7,
   "metadata": {
    "cell_id": "ab7fb357b0fd435d822fe4a294c982a2",
    "deepnote_app_coordinates": {
     "h": 5,
     "w": 12,
     "x": 0,
     "y": 0
    },
    "deepnote_cell_type": "code",
    "deepnote_to_be_reexecuted": false,
    "execution_millis": 374,
    "execution_start": 1670941525843,
    "source_hash": "b6b01427",
    "tags": []
   },
   "outputs": [
    {
     "name": "stdout",
     "output_type": "stream",
     "text": [
      "回归系数： [ 1.02026986e+76 -1.13520942e+76  9.19402885e+75  5.66309332e+75\n",
      " -4.91083973e+75  5.35399839e+75]\n",
      "最终损失： 5.336762494107758e+77\n"
     ]
    },
    {
     "data": {
      "image/png": "[encoded data removed]",
      "text/plain": [
       "<Figure size 640x480 with 1 Axes>"
      ]
     },
     "metadata": {},
     "output_type": "display_data"
    }
   ],
   "source": [
    "_, loss3, _ = SGD(num_epoch=num_epoch, learning_rate=1.5, batch_size=batch_size)\n",
    "print('最终损失：', loss3[-1])\n",
    "plt.plot(np.arange(num_epoch), np.log(loss3), color='blue', label='lr=1.5')\n",
    "plt.xlabel('Epoch')\n",
    "plt.ylabel('log RMSE')\n",
    "plt.gca().xaxis.set_major_locator(MaxNLocator(integer=True))\n",
    "plt.legend()\n",
    "plt.show()"
   ]
  }
 ],
 "metadata": {
  "deepnote": {},
  "deepnote_app_layout": "article",
  "deepnote_execution_queue": [],
  "deepnote_notebook_id": "8b4b472deff24300a73fc652e8cf55b0",
  "kernelspec": {
   "display_name": "sklearn",
   "language": "python",
   "name": "python3"
  },
  "language_info": {
   "codemirror_mode": {
    "name": "ipython",
    "version": 3
   },
   "file_extension": ".py",
   "mimetype": "text/x-python",
   "name": "python",
   "nbconvert_exporter": "python",
   "pygments_lexer": "ipython3",
   "version": "3.10.8"
  }
 },
 "nbformat": 4,
 "nbformat_minor": 1
}
